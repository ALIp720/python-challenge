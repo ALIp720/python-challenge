{
 "cells": [
  {
   "cell_type": "code",
   "execution_count": 9,
   "id": "da1e27c4-108e-4f87-9684-3acc7c8707dd",
   "metadata": {},
   "outputs": [],
   "source": [
    "import pandas as pd\n",
    "\n"
   ]
  },
  {
   "cell_type": "code",
   "execution_count": null,
   "id": "47bc54b4-ffa7-419f-a809-2e3cd6ee3ee4",
   "metadata": {},
   "outputs": [],
   "source": [
    "\n"
   ]
  },
  {
   "cell_type": "code",
   "execution_count": 13,
   "id": "cca2189f-808a-414a-90e6-2998487d534d",
   "metadata": {},
   "outputs": [
    {
     "name": "stdout",
     "output_type": "stream",
     "text": [
      "Financial Analysis\n",
      "Total Months: 86\n",
      "Total: $ 38382578\n",
      "Average change: $ -2315.12\n",
      "Greatest Increase in Profits:$ 1926159\n",
      "Greatest Decrease in Profits: $ -2196167\n"
     ]
    }
   ],
   "source": [
    "df = pd.read_csv(\"/Users/ali/Desktop/Instructions/PyBank/Resources/budget_data.csv\")\n",
    "\n",
    "# Financial Analysis\n",
    "print(\"Financial Analysis\")\n",
    "\n",
    "\n",
    "#The total number of months included in the dataset\n",
    "months=df[\"Date\"]\n",
    "print(\"Total Months:\",len(months))\n",
    "\n",
    "\n",
    "\n",
    "#The net total amount of Profit/Losses over the entire period \n",
    "pnl=df[\"Profit/Losses\"]\n",
    "print(\"Total: $\", sum(pnl))\n",
    "\n",
    "\n",
    "#The average of the changes in Profit/Losses over the entire period\n",
    "new=df[\"Profit/Losses\"]\n",
    "df[\"change\"]=df[\"Profit/Losses\"].diff()\n",
    "\n",
    "change_pnl=df[\"change\"].dropna()\n",
    "\n",
    "change_pnl_value=(sum(change_pnl)/(len(months)-1))\n",
    "rounded_pnl=str(round(change_pnl_value,2))\n",
    "\n",
    "print(\"Average change: $\", rounded_pnl)\n",
    "\n",
    "\n",
    "\n",
    "\n",
    "#The greatest increase in profits (date and amount) over the entire period\n",
    "highest=int(max(change_pnl))\n",
    "print(\"Greatest Increase in Profits:$\",(highest))\n",
    "\n",
    "\n",
    "\n",
    "\n",
    "\n",
    "\n",
    "\n",
    "\n",
    "\n",
    "#The greatest decrease in losses (date and amount) over the entire period\n",
    "lowest=int(min(change_pnl))\n",
    "\n",
    "print(\"Greatest Decrease in Profits: $\",(lowest))\n",
    "\n",
    "#Generate an output text file\n",
    "\n",
    "with open(\"output.txt\",\"w+\") as f:\n",
    "    print(\"Financial Analysis\",file=f)\n",
    "  \n",
    "\n",
    "\n",
    "\n",
    "\n",
    "\n"
   ]
  },
  {
   "cell_type": "code",
   "execution_count": null,
   "id": "2067ed80-4b72-4074-b569-3c9ea1ef6574",
   "metadata": {},
   "outputs": [],
   "source": []
  },
  {
   "cell_type": "code",
   "execution_count": null,
   "id": "c0997579-33e7-4200-b2ae-cca573d821c1",
   "metadata": {},
   "outputs": [],
   "source": []
  },
  {
   "cell_type": "code",
   "execution_count": null,
   "id": "e0d0467b-a59a-4e40-b6a1-968929600ab1",
   "metadata": {},
   "outputs": [],
   "source": []
  },
  {
   "cell_type": "code",
   "execution_count": null,
   "id": "9bb48777-ba0e-4bf7-a134-45965c7a7f85",
   "metadata": {},
   "outputs": [],
   "source": []
  }
 ],
 "metadata": {
  "kernelspec": {
   "display_name": "Python 3 (ipykernel)",
   "language": "python",
   "name": "python3"
  },
  "language_info": {
   "codemirror_mode": {
    "name": "ipython",
    "version": 3
   },
   "file_extension": ".py",
   "mimetype": "text/x-python",
   "name": "python",
   "nbconvert_exporter": "python",
   "pygments_lexer": "ipython3",
   "version": "3.9.12"
  }
 },
 "nbformat": 4,
 "nbformat_minor": 5
}
